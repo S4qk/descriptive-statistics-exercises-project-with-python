{
    "cells": [
        {
            "cell_type": "markdown",
            "id": "ac622319",
            "metadata": {},
            "source": [
                "# Descriptive statistics problems"
            ]
        },
        {
            "cell_type": "markdown",
            "id": "aa8993e4",
            "metadata": {},
            "source": [
                "### Exercise 1"
            ]
        },
        {
            "cell_type": "markdown",
            "id": "5e0ab0d5",
            "metadata": {},
            "source": [
                "We will use Numpy to obtain information to describe statistically.\n",
                "\n",
                "- Generate an array of 100 elements following a normal distribution.\n",
                "- Generate an array of 100 elements following a chi-square distribution with 3 degrees of freedom.\n",
                "- Calculate the main metrics and statistical measures that best describe the two vectors."
            ]
        },
        {
            "cell_type": "code",
            "execution_count": 25,
            "id": "34720ab6",
            "metadata": {},
            "outputs": [],
            "source": [
                "import numpy as np\n",
                "import matplotlib.pyplot as plt\n",
                "from scipy.stats import norm\n",
                " \n",
                "data_0 = np.random.normal(0, 1, 100)\n",
                "data_1 = np.random.chisquare(3, 100)"
            ]
        },
        {
            "cell_type": "markdown",
            "id": "0e43dd48",
            "metadata": {},
            "source": [
                "### Mean"
            ]
        },
        {
            "cell_type": "code",
            "execution_count": 29,
            "id": "92043d8f",
            "metadata": {},
            "outputs": [
                {
                    "name": "stdout",
                    "output_type": "stream",
                    "text": [
                        "Mean of a normal distribution: 0.07092409637793838\n",
                        "Mean of a chi-square distribution: 3.7163481330071164\n"
                    ]
                }
            ],
            "source": [
                "import statistics as stats\n",
                "\n",
                "print(f\"Mean of a normal distribution: {stats.mean(data_0)}\")\n",
                "print(f\"Mean of a chi-square distribution: {stats.mean(data_1)}\")"
            ]
        },
        {
            "cell_type": "markdown",
            "id": "5b1982e2",
            "metadata": {},
            "source": [
                "### Median"
            ]
        },
        {
            "cell_type": "code",
            "execution_count": 34,
            "id": "d5384d45",
            "metadata": {},
            "outputs": [
                {
                    "name": "stdout",
                    "output_type": "stream",
                    "text": [
                        "Median of a normal distribution: 0.06921212372163449\n",
                        "Median of a chi-square distribution: 2.720631216910972\n"
                    ]
                }
            ],
            "source": [
                "print(f\"Median of a normal distribution: {stats.median(data_0)}\")\n",
                "print(f\"Median of a chi-square distribution: {stats.median(data_1)}\")"
            ]
        },
        {
            "cell_type": "markdown",
            "id": "ef74411b",
            "metadata": {},
            "source": [
                "### Mode"
            ]
        },
        {
            "cell_type": "code",
            "execution_count": 35,
            "id": "322b3001",
            "metadata": {},
            "outputs": [
                {
                    "name": "stdout",
                    "output_type": "stream",
                    "text": [
                        "Mode of a normal distribution: -1.1983484150943313\n",
                        "Mode of a chi-square distribution: 1.901367728585229\n"
                    ]
                }
            ],
            "source": [
                "print(f\"Mode of a normal distribution: {stats.mode(data_0)}\")\n",
                "print(f\"Mode of a chi-square distribution: {stats.mode(data_1)}\")"
            ]
        },
        {
            "cell_type": "markdown",
            "id": "10a1fc9c",
            "metadata": {},
            "source": [
                "### Range"
            ]
        },
        {
            "cell_type": "code",
            "execution_count": 38,
            "id": "ae9cd056",
            "metadata": {},
            "outputs": [
                {
                    "name": "stdout",
                    "output_type": "stream",
                    "text": [
                        "Range of a normal distribution: 4.073430552438688\n",
                        "Range of a chi-square distribution: 22.750282740298296\n"
                    ]
                }
            ],
            "source": [
                "print(f\"Range of a normal distribution: {max(data_0) - min(data_0)}\")\n",
                "print(f\"Range of a chi-square distribution: {max(data_1) - min(data_1)}\")"
            ]
        },
        {
            "cell_type": "markdown",
            "id": "8ba91be1",
            "metadata": {},
            "source": [
                "### Variance"
            ]
        },
        {
            "cell_type": "code",
            "execution_count": 39,
            "id": "6ed7ca6a",
            "metadata": {},
            "outputs": [
                {
                    "name": "stdout",
                    "output_type": "stream",
                    "text": [
                        "Variance of a normal distribution: 0.6572376319271614\n",
                        "Variance of a chi-square distribution: 13.031267325150408\n"
                    ]
                }
            ],
            "source": [
                "print(f\"Variance of a normal distribution: {stats.variance(data_0)}\")\n",
                "print(f\"Variance of a chi-square distribution: {stats.variance(data_1)}\")"
            ]
        },
        {
            "cell_type": "markdown",
            "id": "46a5d78f",
            "metadata": {},
            "source": [
                "### Standard deviation"
            ]
        },
        {
            "cell_type": "code",
            "execution_count": 43,
            "id": "65319de0",
            "metadata": {},
            "outputs": [
                {
                    "name": "stdout",
                    "output_type": "stream",
                    "text": [
                        "Standard deviation of a normal distribution: 0.8107019377842645\n",
                        "Standard deviation of a chi-square distribution: 3.609884669231194\n"
                    ]
                }
            ],
            "source": [
                "print(f\"Standard deviation of a normal distribution: {stats.stdev(data_0)}\")\n",
                "print(f\"Standard deviation of a chi-square distribution: {stats.stdev(data_1)}\")"
            ]
        },
        {
            "cell_type": "markdown",
            "id": "d0a95a44",
            "metadata": {},
            "source": [
                "### Skewness"
            ]
        },
        {
            "cell_type": "code",
            "execution_count": 50,
            "id": "7c1bbf4a",
            "metadata": {},
            "outputs": [
                {
                    "name": "stdout",
                    "output_type": "stream",
                    "text": [
                        "Skewness of a normal distribution: -0.17829949973004852\n",
                        "Skewness of a chi-square distribution: 2.1947290817668073\n"
                    ]
                }
            ],
            "source": [
                "from scipy.stats import skew\n",
                "\n",
                "print(f\"Skewness of a normal distribution: {skew(data_0)}\")\n",
                "print(f\"Skewness of a chi-square distribution: {skew(data_1)}\")"
            ]
        },
        {
            "cell_type": "markdown",
            "id": "f04b7f93",
            "metadata": {},
            "source": [
                "### Kurtosis"
            ]
        },
        {
            "cell_type": "code",
            "execution_count": 49,
            "id": "7b1519b7",
            "metadata": {},
            "outputs": [
                {
                    "name": "stdout",
                    "output_type": "stream",
                    "text": [
                        "Kurtosis of a normal distribution: -0.25080267700692005\n",
                        "Kurtosis of a chi-square distribution: 7.316952611803673\n"
                    ]
                }
            ],
            "source": [
                "from scipy.stats import kurtosis\n",
                "\n",
                "print(f\"Kurtosis of a normal distribution: {kurtosis(data_0)}\")\n",
                "print(f\"Kurtosis of a chi-square distribution: {kurtosis(data_1)}\")"
            ]
        },
        {
            "cell_type": "markdown",
            "id": "46c70c3d",
            "metadata": {},
            "source": [
                "### Exercise 2\n",
                "\n",
                "Write a Python program to calculate the standard deviation of the following data:\n",
                "\n",
                "```py\n",
                "data = [4, 2, 5, 8, 6]\n",
                "```"
            ]
        },
        {
            "cell_type": "markdown",
            "id": "f4831ffd",
            "metadata": {},
            "source": [
                "**We can use numpy to calculate the standard deviation easily or we can create an algorithm, first we use numpy as follows:**"
            ]
        },
        {
            "cell_type": "code",
            "execution_count": 7,
            "id": "d590308e",
            "metadata": {},
            "outputs": [
                {
                    "name": "stdout",
                    "output_type": "stream",
                    "text": [
                        "The standard deviation of data is 2.0\n"
                    ]
                }
            ],
            "source": [
                "data = [4, 2, 5, 8, 6]\n",
                "\n",
                "print(f\"The standard deviation of data is {np.std(data)}\")"
            ]
        },
        {
            "cell_type": "markdown",
            "id": "9311cd06",
            "metadata": {},
            "source": [
                "**Now we use an algorithm based on the formulas needed to calculate the standard deviation:**"
            ]
        },
        {
            "cell_type": "code",
            "execution_count": 19,
            "id": "e0f0e8d3",
            "metadata": {},
            "outputs": [
                {
                    "name": "stdout",
                    "output_type": "stream",
                    "text": [
                        "The standard deviation of data is 2.0\n"
                    ]
                }
            ],
            "source": [
                "def std(X):\n",
                "    k, m = 0, 0\n",
                "    for i in range(len(X)):\n",
                "        k += X[i]\n",
                "    k /= len(X)\n",
                "    for j in range(len(X)):\n",
                "        m += (X[j] - k) * (X[j] - k)\n",
                "    m /= len(X)\n",
                "    return sroot(m)\n",
                "\n",
                "def sroot(num, pr=1e-10): # Newton-Raphson\n",
                "    x = num\n",
                "    while True:\n",
                "        sqrt_aprox = 0.5 * (x + (num / x))\n",
                "        if abs(sqrt_aprox - x) < pr:\n",
                "            return sqrt_aprox\n",
                "        x = sqrt_aprox\n",
                "\n",
                "print(f\"The standard deviation of data is {std(data)}\")"
            ]
        }
    ],
    "metadata": {
        "interpreter": {
            "hash": "9248718ffe6ce6938b217e69dbcc175ea21f4c6b28a317e96c05334edae734bb"
        },
        "kernelspec": {
            "display_name": "Python 3.9.12 ('ML-BOOTCAMP')",
            "language": "python",
            "name": "python3"
        },
        "language_info": {
            "codemirror_mode": {
                "name": "ipython",
                "version": 3
            },
            "file_extension": ".py",
            "mimetype": "text/x-python",
            "name": "python",
            "nbconvert_exporter": "python",
            "pygments_lexer": "ipython3",
            "version": "3.12.1"
        }
    },
    "nbformat": 4,
    "nbformat_minor": 5
}
